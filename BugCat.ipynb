{
 "cells": [
  {
   "cell_type": "code",
   "execution_count": null,
   "id": "de14bf46",
   "metadata": {},
   "outputs": [],
   "source": [
    "from tensorflow.keras.models import Model,load_model\n",
    "from tensorflow.keras.layers import Dense,LSTM,Flatten,Dropout,Input,concatenate\n",
    "from tensorflow.keras.callbacks import EarlyStopping,ReduceLROnPlateau\n",
    "import numpy as np\n",
    "import matplotlib.pyplot as plt\n",
    "import pandas as pd\n",
    "from sklearn.preprocessing import MinMaxScaler\n",
    "from sklearn.metrics import mean_absolute_error,mean_absolute_percentage_error,mean_squared_error,r2_score\n",
    "import tensorflow as tf\n",
    "from sklearn.model_selection import train_test_split\n",
    "\n",
    "my_seed = 7\n",
    "tf.compat.v1.set_random_seed(my_seed)\n",
    "# physical_devices = tf.config.list_physical_devices('GPU')\n",
    "# try:\n",
    "#     tf.config.experimental.set_memory_growth(physical_devices[0],True)\n",
    "#     assert tf.config.experimental.get_memory_growth(physical_devices[0])\n",
    "# except:\n",
    "#     pass"
   ]
  },
  {
   "cell_type": "code",
   "execution_count": null,
   "id": "29c78e8d",
   "metadata": {},
   "outputs": [],
   "source": [
    "data = pd.read_csv('data/banben2.csv',index_col='time')\n",
    "data = data.iloc[:,[0,1,2,5,6,7]]"
   ]
  },
  {
   "cell_type": "code",
   "execution_count": null,
   "id": "0f408a4a",
   "metadata": {},
   "outputs": [],
   "source": [
    "data"
   ]
  },
  {
   "cell_type": "code",
   "execution_count": null,
   "id": "fadc8891",
   "metadata": {},
   "outputs": [],
   "source": [
    "modility_num = data.iloc[:,[0,1,2]]\n",
    "modility_ser = data['severity_num']\n",
    "modility_pri = data['priority_num']"
   ]
  },
  {
   "cell_type": "code",
   "execution_count": null,
   "id": "f46eb9ed",
   "metadata": {},
   "outputs": [],
   "source": [
    "modility_num.shape,modility_ser.shape,modility_pri.shape"
   ]
  },
  {
   "cell_type": "code",
   "execution_count": null,
   "id": "8591c8c3",
   "metadata": {},
   "outputs": [],
   "source": [
    "scaler1 = MinMaxScaler(feature_range=(0,1))\n",
    "scaler2 = MinMaxScaler(feature_range=(0,1))\n",
    "scaler3 = MinMaxScaler(feature_range=(0,1))\n",
    "scaler4 = MinMaxScaler(feature_range=(0,1))\n",
    "modility_num_norm = scaler1.fit_transform(modility_num)\n",
    "modility_ser_norm = scaler2.fit_transform(modility_ser.values.reshape(-1,1))\n",
    "modility_pri_norm = scaler3.fit_transform(modility_pri.values.reshape(-1,1))\n",
    "number =  scaler4.fit_transform(data['number'].values.reshape(-1,1))"
   ]
  },
  {
   "cell_type": "code",
   "execution_count": null,
   "id": "a9ab8442",
   "metadata": {},
   "outputs": [],
   "source": [
    "# 这个才是对的！\n",
    "def create_dataset(dataset,look_back):\n",
    "    dataX,dataY = [],[]\n",
    "#     注意：这个range里面到底要不要减一\n",
    "    for i in range(len(dataset)-look_back):\n",
    "        a = dataset[i:i+look_back]\n",
    "        dataX.append(a)\n",
    "        dataY.append(dataset[i+look_back,0])\n",
    "    return np.array(dataX),np.array(dataY)"
   ]
  },
  {
   "cell_type": "code",
   "execution_count": null,
   "id": "153773ed",
   "metadata": {},
   "outputs": [],
   "source": [
    "test_size = 200\n",
    "look_back = 7"
   ]
  },
  {
   "cell_type": "code",
   "execution_count": null,
   "id": "3851e450",
   "metadata": {},
   "outputs": [],
   "source": [
    "from tensorflow.keras.utils import to_categorical"
   ]
  },
  {
   "cell_type": "code",
   "execution_count": null,
   "id": "3ebc17a1",
   "metadata": {},
   "outputs": [],
   "source": [
    "dataY = data['category'][look_back:].values.reshape(-1,1)\n",
    "dataY.shape"
   ]
  },
  {
   "cell_type": "code",
   "execution_count": null,
   "id": "bc101ea8",
   "metadata": {},
   "outputs": [],
   "source": [
    "one_hots = to_categorical(dataY-1)"
   ]
  },
  {
   "cell_type": "code",
   "execution_count": null,
   "id": "20503e69",
   "metadata": {},
   "outputs": [],
   "source": [
    "one_hots.shape"
   ]
  },
  {
   "cell_type": "code",
   "execution_count": null,
   "id": "1621e1be",
   "metadata": {},
   "outputs": [],
   "source": [
    "dataX_all_1,dataY_all_1 = create_dataset(modility_num_norm,7)\n",
    "dataX_all_2,dataY_all_2 = create_dataset(modility_ser_norm,7)\n",
    "dataX_all_3,dataY_all_3 = create_dataset(modility_pri_norm,7)\n",
    "\n",
    "\n",
    "\n",
    "trainX_1, testX_1,trainX_2, testX_2,trainX_3, testX_3, trainY, testY = train_test_split(dataX_all_1, dataX_all_2,dataX_all_3,one_hots, test_size=0.25, random_state=0)\n",
    "\n",
    "\n",
    "# trainX_1 = dataX_all_1[:-test_size]\n",
    "# testX_1 = dataX_all_1[-test_size:]\n",
    "# trainX_2 = dataX_all_2[:-test_size]\n",
    "# testX_2 = dataX_all_2[-test_size:]\n",
    "# trainX_3 = dataX_all_3[:-test_size]\n",
    "# testX_3 = dataX_all_3[-test_size:]\n",
    "# trainY = dataY_all_1[:-test_size]\n",
    "# testY = dataY_all_1[-test_size:]"
   ]
  },
  {
   "cell_type": "code",
   "execution_count": null,
   "id": "0cc4c68a",
   "metadata": {},
   "outputs": [],
   "source": [
    "trainX_1.shape,trainX_2.shape,trainX_3.shape,trainY.shape"
   ]
  },
  {
   "cell_type": "code",
   "execution_count": null,
   "id": "e20bc5d4",
   "metadata": {},
   "outputs": [],
   "source": [
    "number_input = Input(shape=(7,3),name = \"number\")\n",
    "severity_input = Input(shape=(7,1),name = \"severity\")\n",
    "priority_input = Input(shape=(7,1),name = \"priority\")\n",
    "x1 = LSTM(64,return_sequences=False)(number_input)\n",
    "x2 = LSTM(64,return_sequences=False)(severity_input)\n",
    "x3 = LSTM(64,return_sequences=False)(priority_input)\n",
    "x = concatenate([x1,x2,x3])\n",
    "# x = Dense(64, name=\"dence\")(x)\n",
    "num_pred = Dense(3, activation = 'softmax',name=\"output\")(x)"
   ]
  },
  {
   "cell_type": "code",
   "execution_count": null,
   "id": "90a26466",
   "metadata": {},
   "outputs": [],
   "source": [
    "callback = tf.keras.callbacks.EarlyStopping(monitor='loss', patience=3)"
   ]
  },
  {
   "cell_type": "code",
   "execution_count": null,
   "id": "408d357f",
   "metadata": {},
   "outputs": [],
   "source": [
    "model = Model(inputs = [number_input,severity_input,priority_input],outputs = num_pred)"
   ]
  },
  {
   "cell_type": "code",
   "execution_count": null,
   "id": "920aff03",
   "metadata": {},
   "outputs": [],
   "source": [
    "model.compile(loss='categorical_crossentropy', optimizer='adam',metrics=['accuracy'])"
   ]
  },
  {
   "cell_type": "code",
   "execution_count": null,
   "id": "419c24bd",
   "metadata": {},
   "outputs": [],
   "source": [
    "model.summary()"
   ]
  },
  {
   "cell_type": "code",
   "execution_count": null,
   "id": "14de573d",
   "metadata": {},
   "outputs": [],
   "source": [
    "history = model.fit({\"number\": trainX_1, \"severity\": trainX_2, \"priority\": trainX_3},{\"output\":trainY},epochs=100, batch_size=12, verbose=2,validation_split=0.2,callbacks=[callback])"
   ]
  },
  {
   "cell_type": "code",
   "execution_count": null,
   "id": "8860c699",
   "metadata": {},
   "outputs": [],
   "source": [
    "accuracy = model.evaluate([testX_1,testX_2,testX_3], testY, batch_size=12, verbose=2)"
   ]
  },
  {
   "cell_type": "code",
   "execution_count": null,
   "id": "f7567002",
   "metadata": {},
   "outputs": [],
   "source": [
    "testPredict = model.predict([testX_1,testX_2,testX_3])"
   ]
  },
  {
   "cell_type": "code",
   "execution_count": null,
   "id": "83557ec8",
   "metadata": {},
   "outputs": [],
   "source": [
    "testPredict"
   ]
  },
  {
   "cell_type": "code",
   "execution_count": null,
   "id": "cae0e915",
   "metadata": {},
   "outputs": [],
   "source": [
    "y_pred = np.argmax(testPredict, axis=1)"
   ]
  },
  {
   "cell_type": "code",
   "execution_count": null,
   "id": "0d8ac448",
   "metadata": {},
   "outputs": [],
   "source": [
    "y_pred"
   ]
  },
  {
   "cell_type": "code",
   "execution_count": null,
   "id": "6a35b39b",
   "metadata": {},
   "outputs": [],
   "source": [
    "y_real = np.argmax(testY, axis=1)"
   ]
  },
  {
   "cell_type": "code",
   "execution_count": null,
   "id": "bef1544e",
   "metadata": {},
   "outputs": [],
   "source": [
    "y_real"
   ]
  },
  {
   "cell_type": "code",
   "execution_count": null,
   "id": "0ef90ade",
   "metadata": {},
   "outputs": [],
   "source": [
    "from sklearn.metrics import cohen_kappa_score\n",
    "kappa = cohen_kappa_score(y_real,y_pred)\n",
    "# kappa = cohen_kappa_score(dataY[-30:],y_pred)\n",
    "#(label除非是你想计算其中的分类子集的kappa系数，否则不需要设置)\n",
    "kappa"
   ]
  },
  {
   "cell_type": "code",
   "execution_count": null,
   "id": "b1bae7ca",
   "metadata": {},
   "outputs": [],
   "source": [
    "from sklearn.metrics import classification_report"
   ]
  },
  {
   "cell_type": "code",
   "execution_count": null,
   "id": "0fad11ea",
   "metadata": {},
   "outputs": [],
   "source": [
    "print(classification_report(y_real,y_pred))\n",
    "# print(classification_report(dataY[-30:],y_pred))"
   ]
  },
  {
   "cell_type": "code",
   "execution_count": null,
   "id": "de537e9c",
   "metadata": {},
   "outputs": [],
   "source": [
    "from sklearn.metrics import confusion_matrix"
   ]
  },
  {
   "cell_type": "code",
   "execution_count": null,
   "id": "b9a0c699",
   "metadata": {},
   "outputs": [],
   "source": [
    "con  = confusion_matrix(y_real,y_pred)\n",
    "con"
   ]
  },
  {
   "cell_type": "code",
   "execution_count": null,
   "id": "12c02508",
   "metadata": {},
   "outputs": [],
   "source": [
    "# https://www.aiuai.cn/aifarm1335.html"
   ]
  },
  {
   "cell_type": "code",
   "execution_count": null,
   "id": "f33596d8",
   "metadata": {},
   "outputs": [],
   "source": [
    "from sklearn.metrics import confusion_matrix\n",
    "\n",
    "labels = ['low', 'middle','high']\n",
    "cm = con\n",
    "print(cm)\n",
    "fig = plt.figure()\n",
    "ax = fig.add_subplot(111)\n",
    "cax = ax.matshow(cm)\n",
    "plt.title('Confusion matrix of the classifier')\n",
    "fig.colorbar(cax)\n",
    "ax.set_xticklabels([''] + labels)\n",
    "ax.set_yticklabels([''] + labels)\n",
    "plt.xlabel('Predicted')\n",
    "plt.ylabel('True')\n",
    "plt.show()"
   ]
  },
  {
   "cell_type": "code",
   "execution_count": null,
   "id": "c32de529",
   "metadata": {},
   "outputs": [],
   "source": [
    "import matplotlib.pyplot as plt\n",
    "import numpy as np\n",
    "\n",
    "confusion = con\n",
    "# 热度图，后面是指定的颜色块，可设置其他的不同颜色\n",
    "plt.imshow(confusion, cmap=plt.cm.Blues)\n",
    "# plt.imshow(confusion, cmap=plt.cm.Wistia)\n",
    "# ticks 坐标轴的坐标点\n",
    "# label 坐标轴标签说明\n",
    "indices = range(len(confusion))\n",
    "# 第一个是迭代对象，表示坐标的显示顺序，第二个参数是坐标轴显示列表\n",
    "#plt.xticks(indices, [0, 1, 2])\n",
    "#plt.yticks(indices, [0, 1, 2])\n",
    "plt.xticks(indices, ['low', 'middle','high'])\n",
    "plt.yticks(indices, ['low', 'middle','high'])\n",
    "\n",
    "plt.colorbar()\n",
    "\n",
    "plt.xlabel('预测值')\n",
    "plt.ylabel('真实值')\n",
    "plt.title('banben2')\n",
    "\n",
    "# plt.rcParams两行是用于解决标签不能显示汉字的问题\n",
    "plt.rcParams['font.sans-serif']=['SimHei']\n",
    "plt.rcParams['axes.unicode_minus'] = False\n",
    "\n",
    "# 显示数据\n",
    "for first_index in range(len(confusion)):  #第几行\n",
    "    for second_index in range(len(confusion[first_index])):  #第几列\n",
    "        plt.text(first_index, second_index, confusion[first_index][second_index])\n",
    "plt.show()"
   ]
  },
  {
   "cell_type": "code",
   "execution_count": null,
   "id": "4527c78f",
   "metadata": {
    "scrolled": true
   },
   "outputs": [],
   "source": [
    "help(plt.cm)"
   ]
  },
  {
   "cell_type": "code",
   "execution_count": null,
   "id": "19d8c8ce",
   "metadata": {},
   "outputs": [],
   "source": []
  }
 ],
 "metadata": {
  "kernelspec": {
   "display_name": "Python [conda env:root]",
   "language": "python",
   "name": "conda-root-py"
  },
  "language_info": {
   "codemirror_mode": {
    "name": "ipython",
    "version": 3
   },
   "file_extension": ".py",
   "mimetype": "text/x-python",
   "name": "python",
   "nbconvert_exporter": "python",
   "pygments_lexer": "ipython3",
   "version": "3.8.8"
  }
 },
 "nbformat": 4,
 "nbformat_minor": 5
}
