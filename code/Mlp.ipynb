{
 "cells": [
  {
   "cell_type": "code",
   "execution_count": 1,
   "id": "49bc3694",
   "metadata": {},
   "outputs": [],
   "source": [
    "import pandas as pd\n",
    "import numpy as np\n",
    "import matplotlib.pyplot as plt\n",
    "from tensorflow.keras.models import load_model,save_model,Model\n",
    "from tensorflow.keras.layers import Dense,Input,Flatten\n",
    "import tensorflow as tf\n",
    "physical_devices = tf.config.list_physical_devices(\"GPU\")\n",
    "from sklearn.preprocessing import MinMaxScaler\n",
    "\n",
    "# my_seed = 7\n",
    "# tf.compat.v1.set_random_seed(my_seed)\n",
    "try:\n",
    "    tf.config.experimental.set_memory_growth(physical_devices[0],True)\n",
    "    assert tf.config.experimental.get_memory_growth(physical_devices[0])\n",
    "except:\n",
    "    pass"
   ]
  },
  {
   "cell_type": "code",
   "execution_count": 2,
   "id": "af12bd8f",
   "metadata": {},
   "outputs": [
    {
     "data": {
      "text/html": [
       "<div>\n",
       "<style scoped>\n",
       "    .dataframe tbody tr th:only-of-type {\n",
       "        vertical-align: middle;\n",
       "    }\n",
       "\n",
       "    .dataframe tbody tr th {\n",
       "        vertical-align: top;\n",
       "    }\n",
       "\n",
       "    .dataframe thead th {\n",
       "        text-align: right;\n",
       "    }\n",
       "</style>\n",
       "<table border=\"1\" class=\"dataframe\">\n",
       "  <thead>\n",
       "    <tr style=\"text-align: right;\">\n",
       "      <th></th>\n",
       "      <th>number</th>\n",
       "      <th>category</th>\n",
       "    </tr>\n",
       "    <tr>\n",
       "      <th>time</th>\n",
       "      <th></th>\n",
       "      <th></th>\n",
       "    </tr>\n",
       "  </thead>\n",
       "  <tbody>\n",
       "    <tr>\n",
       "      <th>2002/9/23</th>\n",
       "      <td>206</td>\n",
       "      <td>3</td>\n",
       "    </tr>\n",
       "    <tr>\n",
       "      <th>2002/9/24</th>\n",
       "      <td>192</td>\n",
       "      <td>3</td>\n",
       "    </tr>\n",
       "    <tr>\n",
       "      <th>2002/9/25</th>\n",
       "      <td>245</td>\n",
       "      <td>3</td>\n",
       "    </tr>\n",
       "    <tr>\n",
       "      <th>2002/9/26</th>\n",
       "      <td>209</td>\n",
       "      <td>3</td>\n",
       "    </tr>\n",
       "    <tr>\n",
       "      <th>2002/9/27</th>\n",
       "      <td>225</td>\n",
       "      <td>3</td>\n",
       "    </tr>\n",
       "    <tr>\n",
       "      <th>...</th>\n",
       "      <td>...</td>\n",
       "      <td>...</td>\n",
       "    </tr>\n",
       "    <tr>\n",
       "      <th>2004/5/10</th>\n",
       "      <td>108</td>\n",
       "      <td>2</td>\n",
       "    </tr>\n",
       "    <tr>\n",
       "      <th>2004/5/11</th>\n",
       "      <td>110</td>\n",
       "      <td>2</td>\n",
       "    </tr>\n",
       "    <tr>\n",
       "      <th>2004/5/12</th>\n",
       "      <td>114</td>\n",
       "      <td>2</td>\n",
       "    </tr>\n",
       "    <tr>\n",
       "      <th>2004/5/13</th>\n",
       "      <td>97</td>\n",
       "      <td>1</td>\n",
       "    </tr>\n",
       "    <tr>\n",
       "      <th>2004/5/14</th>\n",
       "      <td>85</td>\n",
       "      <td>1</td>\n",
       "    </tr>\n",
       "  </tbody>\n",
       "</table>\n",
       "<p>600 rows × 2 columns</p>\n",
       "</div>"
      ],
      "text/plain": [
       "           number  category\n",
       "time                       \n",
       "2002/9/23     206         3\n",
       "2002/9/24     192         3\n",
       "2002/9/25     245         3\n",
       "2002/9/26     209         3\n",
       "2002/9/27     225         3\n",
       "...           ...       ...\n",
       "2004/5/10     108         2\n",
       "2004/5/11     110         2\n",
       "2004/5/12     114         2\n",
       "2004/5/13      97         1\n",
       "2004/5/14      85         1\n",
       "\n",
       "[600 rows x 2 columns]"
      ]
     },
     "execution_count": 2,
     "metadata": {},
     "output_type": "execute_result"
    }
   ],
   "source": [
    "data = pd.read_csv('data/da1.csv',index_col=\"time\")\n",
    "data = data.iloc[:,[0,7]]\n",
    "data"
   ]
  },
  {
   "cell_type": "code",
   "execution_count": 3,
   "id": "92e2bdc4",
   "metadata": {},
   "outputs": [],
   "source": [
    "scaler = MinMaxScaler(feature_range=(0,1))\n",
    "dataset = scaler.fit_transform(data['number'].values.reshape(-1,1))"
   ]
  },
  {
   "cell_type": "code",
   "execution_count": 4,
   "id": "869afe53",
   "metadata": {},
   "outputs": [],
   "source": [
    "lookback = 7"
   ]
  },
  {
   "cell_type": "code",
   "execution_count": 5,
   "id": "294723a6",
   "metadata": {},
   "outputs": [],
   "source": [
    "def create_data(dataset,data,lookback):\n",
    "    dataX,dataY = [],[]\n",
    "    for i in range(len(dataset) - lookback):\n",
    "        dataX.append(dataset[i:i+lookback,[0]])\n",
    "        dataY.append(data.iloc[i+lookback,[1]])\n",
    "    return np.array(dataX),np.array(dataY)"
   ]
  },
  {
   "cell_type": "code",
   "execution_count": 6,
   "id": "5e9a7b15",
   "metadata": {},
   "outputs": [],
   "source": [
    "dataX,dataY = create_data(dataset,data,lookback)"
   ]
  },
  {
   "cell_type": "code",
   "execution_count": 7,
   "id": "637d8c58",
   "metadata": {},
   "outputs": [
    {
     "data": {
      "text/plain": [
       "(array([[0.67672414],\n",
       "        [0.61637931],\n",
       "        [0.84482759],\n",
       "        [0.68965517],\n",
       "        [0.75862069],\n",
       "        [0.45258621],\n",
       "        [0.43103448]]),\n",
       " array([[0.61637931],\n",
       "        [0.84482759],\n",
       "        [0.68965517],\n",
       "        [0.75862069],\n",
       "        [0.45258621],\n",
       "        [0.43103448],\n",
       "        [0.75      ]]))"
      ]
     },
     "execution_count": 7,
     "metadata": {},
     "output_type": "execute_result"
    }
   ],
   "source": [
    "dataX[0],dataX[1]"
   ]
  },
  {
   "cell_type": "code",
   "execution_count": 8,
   "id": "a35928d0",
   "metadata": {},
   "outputs": [],
   "source": [
    "dataX = dataX.reshape(dataX.shape[0],dataX.shape[1])"
   ]
  },
  {
   "cell_type": "code",
   "execution_count": 9,
   "id": "ca737cb7",
   "metadata": {},
   "outputs": [
    {
     "data": {
      "text/plain": [
       "((593, 7), (593, 1))"
      ]
     },
     "execution_count": 9,
     "metadata": {},
     "output_type": "execute_result"
    }
   ],
   "source": [
    "dataX.shape,dataY.shape"
   ]
  },
  {
   "cell_type": "code",
   "execution_count": 10,
   "id": "4aad0d89",
   "metadata": {},
   "outputs": [],
   "source": [
    "from tensorflow.keras.utils import to_categorical\n",
    "from sklearn.model_selection import train_test_split"
   ]
  },
  {
   "cell_type": "code",
   "execution_count": 11,
   "id": "6abf7194",
   "metadata": {},
   "outputs": [],
   "source": [
    "one_hots = to_categorical(dataY-1)"
   ]
  },
  {
   "cell_type": "code",
   "execution_count": 12,
   "id": "0f985717",
   "metadata": {},
   "outputs": [
    {
     "data": {
      "text/plain": [
       "(593, 3)"
      ]
     },
     "execution_count": 12,
     "metadata": {},
     "output_type": "execute_result"
    }
   ],
   "source": [
    "one_hots.shape"
   ]
  },
  {
   "cell_type": "code",
   "execution_count": 13,
   "id": "4ca12814",
   "metadata": {},
   "outputs": [],
   "source": [
    "trainX,testX,trainY,testY = train_test_split(dataX,one_hots,test_size=0.20,random_state=1)\n",
    "# trainX,testX,trainY,testY = train_test_split(dataX,one_hots,test_size=0.20)"
   ]
  },
  {
   "cell_type": "code",
   "execution_count": 14,
   "id": "1a740630",
   "metadata": {},
   "outputs": [],
   "source": [
    "callback = tf.keras.callbacks.EarlyStopping(monitor='loss', patience=5)"
   ]
  },
  {
   "cell_type": "code",
   "execution_count": 15,
   "id": "21e252bf",
   "metadata": {},
   "outputs": [],
   "source": [
    "# 两层比较好     units = 32\n",
    "inputs = Input(shape=(trainX.shape[1],))\n",
    "x = Dense(16, activation='relu')(inputs)\n",
    "x = Dense(16, activation='relu')(x)\n",
    "x = Dense(16, activation='relu')(x)\n",
    "outputs = Dense(3, activation = 'softmax')(x)"
   ]
  },
  {
   "cell_type": "code",
   "execution_count": 16,
   "id": "4d8b8bed",
   "metadata": {},
   "outputs": [],
   "source": [
    "model = Model(inputs = inputs,outputs = outputs)"
   ]
  },
  {
   "cell_type": "code",
   "execution_count": 17,
   "id": "01a6d537",
   "metadata": {},
   "outputs": [],
   "source": [
    "model.compile(loss='categorical_crossentropy', optimizer='adam',metrics=['accuracy'])"
   ]
  },
  {
   "cell_type": "code",
   "execution_count": 18,
   "id": "cdb838b8",
   "metadata": {
    "scrolled": true
   },
   "outputs": [
    {
     "name": "stdout",
     "output_type": "stream",
     "text": [
      "Model: \"model\"\n",
      "_________________________________________________________________\n",
      " Layer (type)                Output Shape              Param #   \n",
      "=================================================================\n",
      " input_1 (InputLayer)        [(None, 7)]               0         \n",
      "                                                                 \n",
      " dense (Dense)               (None, 16)                128       \n",
      "                                                                 \n",
      " dense_1 (Dense)             (None, 16)                272       \n",
      "                                                                 \n",
      " dense_2 (Dense)             (None, 16)                272       \n",
      "                                                                 \n",
      " dense_3 (Dense)             (None, 3)                 51        \n",
      "                                                                 \n",
      "=================================================================\n",
      "Total params: 723\n",
      "Trainable params: 723\n",
      "Non-trainable params: 0\n",
      "_________________________________________________________________\n"
     ]
    }
   ],
   "source": [
    "model.summary()"
   ]
  },
  {
   "cell_type": "code",
   "execution_count": 19,
   "id": "c4986f83",
   "metadata": {},
   "outputs": [
    {
     "name": "stdout",
     "output_type": "stream",
     "text": [
      "Epoch 1/100\n",
      "3/3 - 0s - loss: 1.0969 - accuracy: 0.3193 - val_loss: 1.0949 - val_accuracy: 0.3158 - 355ms/epoch - 118ms/step\n",
      "Epoch 2/100\n",
      "3/3 - 0s - loss: 1.0918 - accuracy: 0.3245 - val_loss: 1.0897 - val_accuracy: 0.3158 - 16ms/epoch - 5ms/step\n",
      "Epoch 3/100\n",
      "3/3 - 0s - loss: 1.0877 - accuracy: 0.3245 - val_loss: 1.0844 - val_accuracy: 0.3158 - 15ms/epoch - 5ms/step\n",
      "Epoch 4/100\n",
      "3/3 - 0s - loss: 1.0825 - accuracy: 0.3245 - val_loss: 1.0793 - val_accuracy: 0.3263 - 16ms/epoch - 5ms/step\n",
      "Epoch 5/100\n",
      "3/3 - 0s - loss: 1.0780 - accuracy: 0.3245 - val_loss: 1.0749 - val_accuracy: 0.3368 - 16ms/epoch - 5ms/step\n",
      "Epoch 6/100\n",
      "3/3 - 0s - loss: 1.0734 - accuracy: 0.3272 - val_loss: 1.0709 - val_accuracy: 0.3368 - 15ms/epoch - 5ms/step\n",
      "Epoch 7/100\n",
      "3/3 - 0s - loss: 1.0690 - accuracy: 0.3430 - val_loss: 1.0672 - val_accuracy: 0.3474 - 17ms/epoch - 6ms/step\n",
      "Epoch 8/100\n",
      "3/3 - 0s - loss: 1.0646 - accuracy: 0.3588 - val_loss: 1.0632 - val_accuracy: 0.3368 - 19ms/epoch - 6ms/step\n",
      "Epoch 9/100\n",
      "3/3 - 0s - loss: 1.0602 - accuracy: 0.3720 - val_loss: 1.0588 - val_accuracy: 0.3474 - 18ms/epoch - 6ms/step\n",
      "Epoch 10/100\n",
      "3/3 - 0s - loss: 1.0556 - accuracy: 0.3720 - val_loss: 1.0537 - val_accuracy: 0.3579 - 15ms/epoch - 5ms/step\n",
      "Epoch 11/100\n",
      "3/3 - 0s - loss: 1.0506 - accuracy: 0.3799 - val_loss: 1.0485 - val_accuracy: 0.3579 - 17ms/epoch - 6ms/step\n",
      "Epoch 12/100\n",
      "3/3 - 0s - loss: 1.0453 - accuracy: 0.3826 - val_loss: 1.0431 - val_accuracy: 0.3579 - 16ms/epoch - 5ms/step\n",
      "Epoch 13/100\n",
      "3/3 - 0s - loss: 1.0395 - accuracy: 0.3799 - val_loss: 1.0376 - val_accuracy: 0.3579 - 17ms/epoch - 6ms/step\n",
      "Epoch 14/100\n",
      "3/3 - 0s - loss: 1.0338 - accuracy: 0.3747 - val_loss: 1.0315 - val_accuracy: 0.3579 - 18ms/epoch - 6ms/step\n",
      "Epoch 15/100\n",
      "3/3 - 0s - loss: 1.0277 - accuracy: 0.3773 - val_loss: 1.0249 - val_accuracy: 0.3684 - 18ms/epoch - 6ms/step\n",
      "Epoch 16/100\n",
      "3/3 - 0s - loss: 1.0214 - accuracy: 0.3958 - val_loss: 1.0182 - val_accuracy: 0.3789 - 18ms/epoch - 6ms/step\n",
      "Epoch 17/100\n",
      "3/3 - 0s - loss: 1.0146 - accuracy: 0.4037 - val_loss: 1.0113 - val_accuracy: 0.4211 - 18ms/epoch - 6ms/step\n",
      "Epoch 18/100\n",
      "3/3 - 0s - loss: 1.0075 - accuracy: 0.4248 - val_loss: 1.0041 - val_accuracy: 0.4421 - 16ms/epoch - 5ms/step\n",
      "Epoch 19/100\n",
      "3/3 - 0s - loss: 1.0001 - accuracy: 0.4670 - val_loss: 0.9961 - val_accuracy: 0.4947 - 17ms/epoch - 6ms/step\n",
      "Epoch 20/100\n",
      "3/3 - 0s - loss: 0.9923 - accuracy: 0.5145 - val_loss: 0.9879 - val_accuracy: 0.5158 - 16ms/epoch - 5ms/step\n",
      "Epoch 21/100\n",
      "3/3 - 0s - loss: 0.9843 - accuracy: 0.5356 - val_loss: 0.9792 - val_accuracy: 0.5474 - 17ms/epoch - 6ms/step\n",
      "Epoch 22/100\n",
      "3/3 - 0s - loss: 0.9753 - accuracy: 0.5805 - val_loss: 0.9704 - val_accuracy: 0.5474 - 16ms/epoch - 5ms/step\n",
      "Epoch 23/100\n",
      "3/3 - 0s - loss: 0.9664 - accuracy: 0.5884 - val_loss: 0.9610 - val_accuracy: 0.5474 - 16ms/epoch - 5ms/step\n",
      "Epoch 24/100\n",
      "3/3 - 0s - loss: 0.9569 - accuracy: 0.6016 - val_loss: 0.9508 - val_accuracy: 0.5474 - 16ms/epoch - 5ms/step\n",
      "Epoch 25/100\n",
      "3/3 - 0s - loss: 0.9470 - accuracy: 0.6359 - val_loss: 0.9402 - val_accuracy: 0.5895 - 16ms/epoch - 5ms/step\n",
      "Epoch 26/100\n",
      "3/3 - 0s - loss: 0.9367 - accuracy: 0.6491 - val_loss: 0.9293 - val_accuracy: 0.6000 - 17ms/epoch - 6ms/step\n",
      "Epoch 27/100\n",
      "3/3 - 0s - loss: 0.9257 - accuracy: 0.6623 - val_loss: 0.9176 - val_accuracy: 0.6211 - 16ms/epoch - 5ms/step\n",
      "Epoch 28/100\n",
      "3/3 - 0s - loss: 0.9146 - accuracy: 0.6702 - val_loss: 0.9064 - val_accuracy: 0.6211 - 15ms/epoch - 5ms/step\n",
      "Epoch 29/100\n",
      "3/3 - 0s - loss: 0.9032 - accuracy: 0.6755 - val_loss: 0.8944 - val_accuracy: 0.6211 - 16ms/epoch - 5ms/step\n",
      "Epoch 30/100\n",
      "3/3 - 0s - loss: 0.8915 - accuracy: 0.6755 - val_loss: 0.8827 - val_accuracy: 0.6211 - 15ms/epoch - 5ms/step\n",
      "Epoch 31/100\n",
      "3/3 - 0s - loss: 0.8814 - accuracy: 0.6781 - val_loss: 0.8733 - val_accuracy: 0.6211 - 16ms/epoch - 5ms/step\n",
      "Epoch 32/100\n",
      "3/3 - 0s - loss: 0.8700 - accuracy: 0.6728 - val_loss: 0.8619 - val_accuracy: 0.6211 - 15ms/epoch - 5ms/step\n",
      "Epoch 33/100\n",
      "3/3 - 0s - loss: 0.8595 - accuracy: 0.6834 - val_loss: 0.8503 - val_accuracy: 0.6316 - 16ms/epoch - 5ms/step\n",
      "Epoch 34/100\n",
      "3/3 - 0s - loss: 0.8502 - accuracy: 0.6702 - val_loss: 0.8424 - val_accuracy: 0.6105 - 17ms/epoch - 6ms/step\n",
      "Epoch 35/100\n",
      "3/3 - 0s - loss: 0.8397 - accuracy: 0.6755 - val_loss: 0.8323 - val_accuracy: 0.6421 - 17ms/epoch - 6ms/step\n",
      "Epoch 36/100\n",
      "3/3 - 0s - loss: 0.8302 - accuracy: 0.6755 - val_loss: 0.8227 - val_accuracy: 0.6316 - 18ms/epoch - 6ms/step\n",
      "Epoch 37/100\n",
      "3/3 - 0s - loss: 0.8213 - accuracy: 0.6702 - val_loss: 0.8134 - val_accuracy: 0.6421 - 17ms/epoch - 6ms/step\n",
      "Epoch 38/100\n",
      "3/3 - 0s - loss: 0.8125 - accuracy: 0.6702 - val_loss: 0.8066 - val_accuracy: 0.6421 - 16ms/epoch - 5ms/step\n",
      "Epoch 39/100\n",
      "3/3 - 0s - loss: 0.8040 - accuracy: 0.6702 - val_loss: 0.7966 - val_accuracy: 0.6632 - 15ms/epoch - 5ms/step\n",
      "Epoch 40/100\n",
      "3/3 - 0s - loss: 0.7957 - accuracy: 0.6702 - val_loss: 0.7870 - val_accuracy: 0.6632 - 16ms/epoch - 5ms/step\n",
      "Epoch 41/100\n",
      "3/3 - 0s - loss: 0.7878 - accuracy: 0.6649 - val_loss: 0.7823 - val_accuracy: 0.6632 - 17ms/epoch - 6ms/step\n",
      "Epoch 42/100\n",
      "3/3 - 0s - loss: 0.7805 - accuracy: 0.6755 - val_loss: 0.7767 - val_accuracy: 0.6632 - 16ms/epoch - 5ms/step\n",
      "Epoch 43/100\n",
      "3/3 - 0s - loss: 0.7723 - accuracy: 0.6728 - val_loss: 0.7636 - val_accuracy: 0.6526 - 16ms/epoch - 5ms/step\n",
      "Epoch 44/100\n",
      "3/3 - 0s - loss: 0.7656 - accuracy: 0.6649 - val_loss: 0.7532 - val_accuracy: 0.6421 - 16ms/epoch - 5ms/step\n",
      "Epoch 45/100\n",
      "3/3 - 0s - loss: 0.7585 - accuracy: 0.6623 - val_loss: 0.7483 - val_accuracy: 0.6632 - 16ms/epoch - 5ms/step\n",
      "Epoch 46/100\n",
      "3/3 - 0s - loss: 0.7523 - accuracy: 0.6675 - val_loss: 0.7454 - val_accuracy: 0.6737 - 15ms/epoch - 5ms/step\n",
      "Epoch 47/100\n",
      "3/3 - 0s - loss: 0.7463 - accuracy: 0.6781 - val_loss: 0.7414 - val_accuracy: 0.6947 - 17ms/epoch - 6ms/step\n",
      "Epoch 48/100\n",
      "3/3 - 0s - loss: 0.7404 - accuracy: 0.6807 - val_loss: 0.7331 - val_accuracy: 0.6947 - 16ms/epoch - 5ms/step\n",
      "Epoch 49/100\n",
      "3/3 - 0s - loss: 0.7352 - accuracy: 0.6702 - val_loss: 0.7225 - val_accuracy: 0.6421 - 17ms/epoch - 6ms/step\n",
      "Epoch 50/100\n",
      "3/3 - 0s - loss: 0.7312 - accuracy: 0.6649 - val_loss: 0.7155 - val_accuracy: 0.6421 - 16ms/epoch - 5ms/step\n",
      "Epoch 51/100\n",
      "3/3 - 0s - loss: 0.7252 - accuracy: 0.6702 - val_loss: 0.7158 - val_accuracy: 0.6632 - 15ms/epoch - 5ms/step\n",
      "Epoch 52/100\n",
      "3/3 - 0s - loss: 0.7212 - accuracy: 0.6860 - val_loss: 0.7134 - val_accuracy: 0.7053 - 17ms/epoch - 6ms/step\n",
      "Epoch 53/100\n",
      "3/3 - 0s - loss: 0.7167 - accuracy: 0.6834 - val_loss: 0.7087 - val_accuracy: 0.7053 - 16ms/epoch - 5ms/step\n",
      "Epoch 54/100\n",
      "3/3 - 0s - loss: 0.7126 - accuracy: 0.6887 - val_loss: 0.7022 - val_accuracy: 0.6632 - 16ms/epoch - 5ms/step\n",
      "Epoch 55/100\n",
      "3/3 - 0s - loss: 0.7092 - accuracy: 0.6887 - val_loss: 0.6950 - val_accuracy: 0.6421 - 17ms/epoch - 6ms/step\n",
      "Epoch 56/100\n",
      "3/3 - 0s - loss: 0.7060 - accuracy: 0.6755 - val_loss: 0.6921 - val_accuracy: 0.6421 - 16ms/epoch - 5ms/step\n",
      "Epoch 57/100\n",
      "3/3 - 0s - loss: 0.7042 - accuracy: 0.6702 - val_loss: 0.6868 - val_accuracy: 0.6421 - 17ms/epoch - 6ms/step\n",
      "Epoch 58/100\n",
      "3/3 - 0s - loss: 0.7001 - accuracy: 0.6860 - val_loss: 0.6915 - val_accuracy: 0.7158 - 17ms/epoch - 6ms/step\n",
      "Epoch 59/100\n",
      "3/3 - 0s - loss: 0.6979 - accuracy: 0.6887 - val_loss: 0.6897 - val_accuracy: 0.7158 - 22ms/epoch - 7ms/step\n",
      "Epoch 60/100\n",
      "3/3 - 0s - loss: 0.6952 - accuracy: 0.6913 - val_loss: 0.6787 - val_accuracy: 0.6842 - 17ms/epoch - 6ms/step\n",
      "Epoch 61/100\n",
      "3/3 - 0s - loss: 0.6929 - accuracy: 0.6860 - val_loss: 0.6732 - val_accuracy: 0.6526 - 17ms/epoch - 6ms/step\n",
      "Epoch 62/100\n",
      "3/3 - 0s - loss: 0.6911 - accuracy: 0.6887 - val_loss: 0.6750 - val_accuracy: 0.6947 - 17ms/epoch - 6ms/step\n",
      "Epoch 63/100\n",
      "3/3 - 0s - loss: 0.6884 - accuracy: 0.6860 - val_loss: 0.6742 - val_accuracy: 0.7158 - 17ms/epoch - 6ms/step\n",
      "Epoch 64/100\n",
      "3/3 - 0s - loss: 0.6861 - accuracy: 0.6887 - val_loss: 0.6697 - val_accuracy: 0.6947 - 17ms/epoch - 6ms/step\n",
      "Epoch 65/100\n",
      "3/3 - 0s - loss: 0.6844 - accuracy: 0.6860 - val_loss: 0.6667 - val_accuracy: 0.6737 - 16ms/epoch - 5ms/step\n",
      "Epoch 66/100\n",
      "3/3 - 0s - loss: 0.6840 - accuracy: 0.6807 - val_loss: 0.6620 - val_accuracy: 0.6737 - 17ms/epoch - 6ms/step\n",
      "Epoch 67/100\n",
      "3/3 - 0s - loss: 0.6816 - accuracy: 0.6913 - val_loss: 0.6683 - val_accuracy: 0.7158 - 16ms/epoch - 5ms/step\n",
      "Epoch 68/100\n",
      "3/3 - 0s - loss: 0.6809 - accuracy: 0.6860 - val_loss: 0.6711 - val_accuracy: 0.7158 - 17ms/epoch - 6ms/step\n"
     ]
    },
    {
     "name": "stdout",
     "output_type": "stream",
     "text": [
      "Epoch 69/100\n",
      "3/3 - 0s - loss: 0.6792 - accuracy: 0.6887 - val_loss: 0.6654 - val_accuracy: 0.7158 - 17ms/epoch - 6ms/step\n",
      "Epoch 70/100\n",
      "3/3 - 0s - loss: 0.6776 - accuracy: 0.6860 - val_loss: 0.6525 - val_accuracy: 0.6632 - 18ms/epoch - 6ms/step\n",
      "Epoch 71/100\n",
      "3/3 - 0s - loss: 0.6768 - accuracy: 0.6781 - val_loss: 0.6538 - val_accuracy: 0.6737 - 14ms/epoch - 5ms/step\n",
      "Epoch 72/100\n",
      "3/3 - 0s - loss: 0.6771 - accuracy: 0.6781 - val_loss: 0.6650 - val_accuracy: 0.7158 - 15ms/epoch - 5ms/step\n",
      "Epoch 73/100\n",
      "3/3 - 0s - loss: 0.6737 - accuracy: 0.6860 - val_loss: 0.6589 - val_accuracy: 0.7263 - 15ms/epoch - 5ms/step\n",
      "Epoch 74/100\n",
      "3/3 - 0s - loss: 0.6725 - accuracy: 0.6992 - val_loss: 0.6525 - val_accuracy: 0.6737 - 15ms/epoch - 5ms/step\n",
      "Epoch 75/100\n",
      "3/3 - 0s - loss: 0.6711 - accuracy: 0.6939 - val_loss: 0.6519 - val_accuracy: 0.6947 - 15ms/epoch - 5ms/step\n",
      "Epoch 76/100\n",
      "3/3 - 0s - loss: 0.6707 - accuracy: 0.6966 - val_loss: 0.6535 - val_accuracy: 0.7053 - 15ms/epoch - 5ms/step\n",
      "Epoch 77/100\n",
      "3/3 - 0s - loss: 0.6693 - accuracy: 0.6966 - val_loss: 0.6558 - val_accuracy: 0.7263 - 15ms/epoch - 5ms/step\n",
      "Epoch 78/100\n",
      "3/3 - 0s - loss: 0.6684 - accuracy: 0.6913 - val_loss: 0.6575 - val_accuracy: 0.7263 - 14ms/epoch - 5ms/step\n",
      "Epoch 79/100\n",
      "3/3 - 0s - loss: 0.6676 - accuracy: 0.6913 - val_loss: 0.6545 - val_accuracy: 0.7263 - 15ms/epoch - 5ms/step\n",
      "Epoch 80/100\n",
      "3/3 - 0s - loss: 0.6659 - accuracy: 0.6992 - val_loss: 0.6456 - val_accuracy: 0.6842 - 15ms/epoch - 5ms/step\n",
      "Epoch 81/100\n",
      "3/3 - 0s - loss: 0.6660 - accuracy: 0.6939 - val_loss: 0.6461 - val_accuracy: 0.6842 - 14ms/epoch - 5ms/step\n",
      "Epoch 82/100\n",
      "3/3 - 0s - loss: 0.6643 - accuracy: 0.6992 - val_loss: 0.6455 - val_accuracy: 0.6842 - 16ms/epoch - 5ms/step\n",
      "Epoch 83/100\n",
      "3/3 - 0s - loss: 0.6646 - accuracy: 0.6913 - val_loss: 0.6516 - val_accuracy: 0.7053 - 15ms/epoch - 5ms/step\n",
      "Epoch 84/100\n",
      "3/3 - 0s - loss: 0.6630 - accuracy: 0.6992 - val_loss: 0.6456 - val_accuracy: 0.6842 - 15ms/epoch - 5ms/step\n",
      "Epoch 85/100\n",
      "3/3 - 0s - loss: 0.6618 - accuracy: 0.6966 - val_loss: 0.6447 - val_accuracy: 0.6842 - 14ms/epoch - 5ms/step\n",
      "Epoch 86/100\n",
      "3/3 - 0s - loss: 0.6608 - accuracy: 0.6966 - val_loss: 0.6437 - val_accuracy: 0.6947 - 15ms/epoch - 5ms/step\n",
      "Epoch 87/100\n",
      "3/3 - 0s - loss: 0.6607 - accuracy: 0.6913 - val_loss: 0.6426 - val_accuracy: 0.6842 - 15ms/epoch - 5ms/step\n",
      "Epoch 88/100\n",
      "3/3 - 0s - loss: 0.6597 - accuracy: 0.6992 - val_loss: 0.6426 - val_accuracy: 0.7053 - 14ms/epoch - 5ms/step\n",
      "Epoch 89/100\n",
      "3/3 - 0s - loss: 0.6595 - accuracy: 0.6966 - val_loss: 0.6428 - val_accuracy: 0.7053 - 15ms/epoch - 5ms/step\n",
      "Epoch 90/100\n",
      "3/3 - 0s - loss: 0.6575 - accuracy: 0.7018 - val_loss: 0.6494 - val_accuracy: 0.7053 - 14ms/epoch - 5ms/step\n",
      "Epoch 91/100\n",
      "3/3 - 0s - loss: 0.6576 - accuracy: 0.6992 - val_loss: 0.6481 - val_accuracy: 0.7053 - 15ms/epoch - 5ms/step\n",
      "Epoch 92/100\n",
      "3/3 - 0s - loss: 0.6571 - accuracy: 0.6992 - val_loss: 0.6475 - val_accuracy: 0.7053 - 15ms/epoch - 5ms/step\n",
      "Epoch 93/100\n",
      "3/3 - 0s - loss: 0.6564 - accuracy: 0.7071 - val_loss: 0.6388 - val_accuracy: 0.6947 - 15ms/epoch - 5ms/step\n",
      "Epoch 94/100\n",
      "3/3 - 0s - loss: 0.6558 - accuracy: 0.6992 - val_loss: 0.6405 - val_accuracy: 0.7158 - 14ms/epoch - 5ms/step\n",
      "Epoch 95/100\n",
      "3/3 - 0s - loss: 0.6547 - accuracy: 0.7045 - val_loss: 0.6369 - val_accuracy: 0.6947 - 15ms/epoch - 5ms/step\n",
      "Epoch 96/100\n",
      "3/3 - 0s - loss: 0.6537 - accuracy: 0.7018 - val_loss: 0.6389 - val_accuracy: 0.7053 - 14ms/epoch - 5ms/step\n",
      "Epoch 97/100\n",
      "3/3 - 0s - loss: 0.6530 - accuracy: 0.7045 - val_loss: 0.6403 - val_accuracy: 0.7053 - 14ms/epoch - 5ms/step\n",
      "Epoch 98/100\n",
      "3/3 - 0s - loss: 0.6523 - accuracy: 0.7045 - val_loss: 0.6415 - val_accuracy: 0.7158 - 15ms/epoch - 5ms/step\n",
      "Epoch 99/100\n",
      "3/3 - 0s - loss: 0.6539 - accuracy: 0.7018 - val_loss: 0.6465 - val_accuracy: 0.7053 - 14ms/epoch - 5ms/step\n",
      "Epoch 100/100\n",
      "3/3 - 0s - loss: 0.6519 - accuracy: 0.6966 - val_loss: 0.6339 - val_accuracy: 0.6947 - 16ms/epoch - 5ms/step\n"
     ]
    }
   ],
   "source": [
    "history = model.fit(trainX,trainY,epochs=100, batch_size=128, verbose=2,validation_split=0.2,callbacks = [callback])\n",
    "# history = model.fit(trainX,trainY,epochs=150, batch_size=12, verbose=2,validation_split=0.2)"
   ]
  },
  {
   "cell_type": "code",
   "execution_count": 20,
   "id": "470ef6cd",
   "metadata": {},
   "outputs": [
    {
     "name": "stdout",
     "output_type": "stream",
     "text": [
      "1/1 - 0s - loss: 0.7199 - accuracy: 0.6555 - 11ms/epoch - 11ms/step\n"
     ]
    }
   ],
   "source": [
    "accuracy = model.evaluate(testX,testY, batch_size=128, verbose=2)"
   ]
  },
  {
   "cell_type": "code",
   "execution_count": 21,
   "id": "ca942069",
   "metadata": {},
   "outputs": [],
   "source": [
    "testPredict = model.predict(testX)"
   ]
  },
  {
   "cell_type": "code",
   "execution_count": 22,
   "id": "ac4941a8",
   "metadata": {},
   "outputs": [],
   "source": [
    "# model = load_model('model/mlp2.h5')\n",
    "# testPredict = model.predict(testX)"
   ]
  },
  {
   "cell_type": "code",
   "execution_count": 23,
   "id": "cc8cdd91",
   "metadata": {},
   "outputs": [
    {
     "data": {
      "text/plain": [
       "array([[3.67950410e-01, 5.51159024e-01, 8.08905363e-02],\n",
       "       [5.27337968e-01, 4.18094903e-01, 5.45671023e-02],\n",
       "       [1.93653833e-02, 3.00392747e-01, 6.80241883e-01],\n",
       "       [1.88135996e-01, 5.25973558e-01, 2.85890371e-01],\n",
       "       [7.71335959e-01, 2.13988006e-01, 1.46760382e-02],\n",
       "       [7.58636534e-01, 2.30624750e-01, 1.07388049e-02],\n",
       "       [4.32538956e-01, 4.96150672e-01, 7.13104457e-02],\n",
       "       [7.85228133e-01, 2.06037477e-01, 8.73444229e-03],\n",
       "       [4.37447846e-01, 4.84172881e-01, 7.83792734e-02],\n",
       "       [8.80488660e-05, 2.76187640e-02, 9.72293139e-01],\n",
       "       [8.18988144e-01, 1.73629686e-01, 7.38220150e-03],\n",
       "       [9.77645814e-02, 5.05329430e-01, 3.96906018e-01],\n",
       "       [3.02209944e-01, 5.47604024e-01, 1.50186047e-01],\n",
       "       [2.32587104e-06, 3.86444107e-03, 9.96133208e-01],\n",
       "       [9.44671929e-02, 5.43112218e-01, 3.62420589e-01],\n",
       "       [1.57398850e-01, 5.34414649e-01, 3.08186501e-01],\n",
       "       [5.02838306e-02, 5.07370770e-01, 4.42345351e-01],\n",
       "       [5.77920258e-01, 3.90710503e-01, 3.13692205e-02],\n",
       "       [4.22007829e-01, 5.09955406e-01, 6.80367500e-02],\n",
       "       [2.14736789e-01, 5.72852552e-01, 2.12410584e-01],\n",
       "       [3.82482423e-04, 6.56028911e-02, 9.34014678e-01],\n",
       "       [3.44036222e-02, 4.22738016e-01, 5.42858362e-01],\n",
       "       [3.90324384e-01, 5.15042245e-01, 9.46333557e-02],\n",
       "       [3.62132746e-03, 1.36368722e-01, 8.60009968e-01],\n",
       "       [2.95001431e-03, 1.37808368e-01, 8.59241605e-01],\n",
       "       [8.50180805e-01, 1.46478295e-01, 3.34084406e-03],\n",
       "       [2.84784585e-01, 5.28745651e-01, 1.86469764e-01],\n",
       "       [4.70013797e-01, 4.69448805e-01, 6.05374426e-02],\n",
       "       [7.60876119e-01, 2.30545014e-01, 8.57894681e-03],\n",
       "       [8.14016998e-01, 1.79491773e-01, 6.49121543e-03],\n",
       "       [8.54238391e-01, 1.41799524e-01, 3.96211771e-03],\n",
       "       [2.14278643e-07, 1.17304781e-03, 9.98826683e-01],\n",
       "       [7.01575339e-01, 2.75991976e-01, 2.24326607e-02],\n",
       "       [4.03255969e-01, 5.05480289e-01, 9.12637487e-02],\n",
       "       [5.88435471e-01, 3.70625973e-01, 4.09385562e-02],\n",
       "       [3.27528960e-06, 3.94162722e-03, 9.96055126e-01],\n",
       "       [8.29074606e-02, 5.55311084e-01, 3.61781478e-01],\n",
       "       [9.56516527e-03, 1.88794896e-01, 8.01639915e-01],\n",
       "       [8.78084958e-01, 1.19598493e-01, 2.31653731e-03],\n",
       "       [1.82538349e-02, 2.94085056e-01, 6.87661171e-01],\n",
       "       [5.56504878e-04, 5.37108593e-02, 9.45732653e-01],\n",
       "       [8.06782246e-02, 4.33614612e-01, 4.85707134e-01],\n",
       "       [5.82837582e-01, 3.84938121e-01, 3.22242267e-02],\n",
       "       [2.60078311e-01, 5.64682961e-01, 1.75238788e-01],\n",
       "       [7.24063993e-01, 2.61558324e-01, 1.43776825e-02],\n",
       "       [1.99937925e-01, 5.69503605e-01, 2.30558515e-01],\n",
       "       [2.18741987e-02, 3.04048508e-01, 6.74077213e-01],\n",
       "       [8.79041135e-01, 1.18962303e-01, 1.99658540e-03],\n",
       "       [2.82120287e-01, 5.68991005e-01, 1.48888767e-01],\n",
       "       [5.49985170e-01, 4.17951912e-01, 3.20628770e-02],\n",
       "       [3.13488483e-01, 5.71525455e-01, 1.14986047e-01],\n",
       "       [1.33776409e-03, 6.88566789e-02, 9.29805517e-01],\n",
       "       [4.92767477e-03, 1.69561476e-01, 8.25510859e-01],\n",
       "       [6.44692183e-01, 3.30144525e-01, 2.51632314e-02],\n",
       "       [5.18705286e-02, 4.79314804e-01, 4.68814671e-01],\n",
       "       [2.71636844e-01, 5.87781429e-01, 1.40581697e-01],\n",
       "       [5.70795238e-01, 3.96182209e-01, 3.30224782e-02],\n",
       "       [6.87902510e-01, 2.95735240e-01, 1.63622182e-02],\n",
       "       [1.50081500e-01, 5.76620638e-01, 2.73297817e-01],\n",
       "       [8.11047137e-01, 1.83061734e-01, 5.89111494e-03],\n",
       "       [5.76173007e-01, 3.92945915e-01, 3.08809616e-02],\n",
       "       [4.09977565e-06, 4.16356977e-03, 9.95832384e-01],\n",
       "       [7.42384017e-01, 2.43729517e-01, 1.38864601e-02],\n",
       "       [4.44315992e-06, 5.83153078e-03, 9.94164050e-01],\n",
       "       [7.50152171e-01, 2.35786840e-01, 1.40610542e-02],\n",
       "       [3.98889720e-01, 5.31200945e-01, 6.99093640e-02],\n",
       "       [3.79612923e-01, 5.10067523e-01, 1.10319518e-01],\n",
       "       [6.12673223e-01, 3.53198230e-01, 3.41285579e-02],\n",
       "       [4.77846235e-01, 4.52205509e-01, 6.99482709e-02],\n",
       "       [7.23848462e-01, 2.61349708e-01, 1.48018757e-02],\n",
       "       [6.19801223e-01, 3.45589012e-01, 3.46096829e-02],\n",
       "       [3.17323953e-01, 5.41863501e-01, 1.40812531e-01],\n",
       "       [9.85406859e-06, 1.00642676e-02, 9.89925861e-01],\n",
       "       [4.09164792e-03, 1.52708650e-01, 8.43199730e-01],\n",
       "       [6.41159832e-01, 3.29068869e-01, 2.97712963e-02],\n",
       "       [4.00680602e-01, 5.14462709e-01, 8.48566443e-02],\n",
       "       [3.76974255e-01, 5.28566837e-01, 9.44588259e-02],\n",
       "       [1.09480647e-02, 2.29968205e-01, 7.59083688e-01],\n",
       "       [3.95930499e-01, 4.98492032e-01, 1.05577506e-01],\n",
       "       [4.30496857e-02, 4.10683095e-01, 5.46267271e-01],\n",
       "       [1.35316148e-01, 5.52030623e-01, 3.12653273e-01],\n",
       "       [1.37887066e-02, 2.43154019e-01, 7.43057251e-01],\n",
       "       [6.36471927e-01, 3.36004585e-01, 2.75235251e-02],\n",
       "       [2.43039560e-02, 3.73117715e-01, 6.02578282e-01],\n",
       "       [7.61555135e-01, 2.22713858e-01, 1.57310758e-02],\n",
       "       [5.52901804e-01, 3.94159168e-01, 5.29390089e-02],\n",
       "       [7.33950511e-02, 4.29556906e-01, 4.97048020e-01],\n",
       "       [4.62455973e-02, 4.05834824e-01, 5.47919571e-01],\n",
       "       [2.72782058e-01, 5.62344372e-01, 1.64873585e-01],\n",
       "       [8.46868813e-01, 1.50232598e-01, 2.89865350e-03],\n",
       "       [4.99856144e-01, 4.36367333e-01, 6.37764931e-02],\n",
       "       [1.00301968e-05, 8.43763072e-03, 9.91552293e-01],\n",
       "       [2.25685939e-01, 5.47856987e-01, 2.26457015e-01],\n",
       "       [3.55928773e-06, 5.08383336e-03, 9.94912624e-01],\n",
       "       [7.79756784e-01, 2.06917420e-01, 1.33257229e-02],\n",
       "       [2.08790660e-01, 5.58418751e-01, 2.32790574e-01],\n",
       "       [6.44697994e-02, 4.56174314e-01, 4.79355812e-01],\n",
       "       [8.30030441e-01, 1.64469525e-01, 5.50011639e-03],\n",
       "       [6.63098276e-01, 3.13740760e-01, 2.31609028e-02],\n",
       "       [5.86361289e-01, 3.64849687e-01, 4.87890095e-02],\n",
       "       [5.87467551e-01, 3.74019980e-01, 3.85124497e-02],\n",
       "       [8.48625600e-01, 1.47722960e-01, 3.65143199e-03],\n",
       "       [1.07531771e-01, 5.86244166e-01, 3.06224048e-01],\n",
       "       [7.86560357e-01, 2.07053378e-01, 6.38624327e-03],\n",
       "       [2.38784418e-01, 5.06430268e-01, 2.54785269e-01],\n",
       "       [6.32969797e-01, 3.45482409e-01, 2.15477869e-02],\n",
       "       [2.15453029e-01, 5.71806550e-01, 2.12740421e-01],\n",
       "       [5.00970960e-01, 4.34217542e-01, 6.48115277e-02],\n",
       "       [9.67434496e-02, 5.28939068e-01, 3.74317467e-01],\n",
       "       [6.59913063e-01, 3.24480742e-01, 1.56061817e-02],\n",
       "       [4.11339551e-01, 5.05818129e-01, 8.28422531e-02],\n",
       "       [9.93749034e-03, 1.84332326e-01, 8.05730164e-01],\n",
       "       [1.45376772e-01, 5.17791390e-01, 3.36831838e-01],\n",
       "       [7.08254933e-01, 2.78595746e-01, 1.31493779e-02],\n",
       "       [2.41596335e-05, 1.14739379e-02, 9.88501906e-01],\n",
       "       [7.73704648e-02, 5.21489680e-01, 4.01139826e-01],\n",
       "       [1.34604245e-01, 5.39165020e-01, 3.26230675e-01],\n",
       "       [6.37105465e-01, 3.36523592e-01, 2.63708644e-02],\n",
       "       [5.22492826e-01, 4.38186824e-01, 3.93203609e-02]], dtype=float32)"
      ]
     },
     "execution_count": 23,
     "metadata": {},
     "output_type": "execute_result"
    }
   ],
   "source": [
    "testPredict"
   ]
  },
  {
   "cell_type": "code",
   "execution_count": 24,
   "id": "3ddbd662",
   "metadata": {},
   "outputs": [
    {
     "data": {
      "text/plain": [
       "(119, 3)"
      ]
     },
     "execution_count": 24,
     "metadata": {},
     "output_type": "execute_result"
    }
   ],
   "source": [
    "testPredict.shape"
   ]
  },
  {
   "cell_type": "code",
   "execution_count": 25,
   "id": "8a4959f8",
   "metadata": {},
   "outputs": [],
   "source": [
    "y_pred = np.argmax(testPredict, axis=1)"
   ]
  },
  {
   "cell_type": "code",
   "execution_count": 26,
   "id": "1c43f9b0",
   "metadata": {},
   "outputs": [
    {
     "data": {
      "text/plain": [
       "array([1, 0, 2, 1, 0, 0, 1, 0, 1, 2, 0, 1, 1, 2, 1, 1, 1, 0, 1, 1, 2, 2,\n",
       "       1, 2, 2, 0, 1, 0, 0, 0, 0, 2, 0, 1, 0, 2, 1, 2, 0, 2, 2, 2, 0, 1,\n",
       "       0, 1, 2, 0, 1, 0, 1, 2, 2, 0, 1, 1, 0, 0, 1, 0, 0, 2, 0, 2, 0, 1,\n",
       "       1, 0, 0, 0, 0, 1, 2, 2, 0, 1, 1, 2, 1, 2, 1, 2, 0, 2, 0, 0, 2, 2,\n",
       "       1, 0, 0, 2, 1, 2, 0, 1, 2, 0, 0, 0, 0, 0, 1, 0, 1, 0, 1, 0, 1, 0,\n",
       "       1, 2, 1, 0, 2, 1, 1, 0, 0], dtype=int64)"
      ]
     },
     "execution_count": 26,
     "metadata": {},
     "output_type": "execute_result"
    }
   ],
   "source": [
    "y_pred"
   ]
  },
  {
   "cell_type": "code",
   "execution_count": 27,
   "id": "d5db9154",
   "metadata": {},
   "outputs": [],
   "source": [
    "y_real = np.argmax(testY, axis=1)"
   ]
  },
  {
   "cell_type": "code",
   "execution_count": 28,
   "id": "4ea69dca",
   "metadata": {},
   "outputs": [
    {
     "data": {
      "text/plain": [
       "array([0, 0, 1, 2, 0, 1, 1, 0, 1, 2, 0, 1, 1, 2, 1, 1, 1, 0, 1, 1, 2, 2,\n",
       "       0, 2, 2, 0, 2, 0, 0, 0, 0, 2, 0, 1, 0, 2, 2, 1, 0, 1, 2, 1, 2, 1,\n",
       "       0, 1, 1, 0, 1, 1, 1, 2, 1, 0, 1, 1, 1, 1, 0, 0, 0, 2, 0, 2, 0, 1,\n",
       "       0, 0, 1, 0, 0, 1, 2, 2, 1, 0, 0, 2, 0, 1, 2, 2, 1, 0, 0, 0, 2, 1,\n",
       "       1, 0, 0, 2, 1, 2, 0, 1, 0, 0, 1, 1, 0, 0, 1, 0, 0, 1, 2, 2, 2, 0,\n",
       "       1, 1, 1, 0, 2, 2, 0, 1, 1], dtype=int64)"
      ]
     },
     "execution_count": 28,
     "metadata": {},
     "output_type": "execute_result"
    }
   ],
   "source": [
    "y_real"
   ]
  },
  {
   "cell_type": "code",
   "execution_count": 29,
   "id": "2e0f1316",
   "metadata": {},
   "outputs": [
    {
     "data": {
      "text/plain": [
       "0.47548914211997406"
      ]
     },
     "execution_count": 29,
     "metadata": {},
     "output_type": "execute_result"
    }
   ],
   "source": [
    "from sklearn.metrics import cohen_kappa_score\n",
    "kappa = cohen_kappa_score(y_real,y_pred)\n",
    "# kappa = cohen_kappa_score(dataY[-30:],y_pred)\n",
    "#(label除非是你想计算其中的分类子集的kappa系数，否则不需要设置)\n",
    "kappa"
   ]
  },
  {
   "cell_type": "code",
   "execution_count": 30,
   "id": "a4c285eb",
   "metadata": {},
   "outputs": [],
   "source": [
    "from sklearn.metrics import classification_report"
   ]
  },
  {
   "cell_type": "code",
   "execution_count": 31,
   "id": "19a952d4",
   "metadata": {},
   "outputs": [
    {
     "name": "stdout",
     "output_type": "stream",
     "text": [
      "              precision    recall  f1-score   support\n",
      "\n",
      "           0       0.71      0.76      0.73        45\n",
      "           1       0.60      0.53      0.56        45\n",
      "           2       0.65      0.69      0.67        29\n",
      "\n",
      "    accuracy                           0.66       119\n",
      "   macro avg       0.65      0.66      0.65       119\n",
      "weighted avg       0.65      0.66      0.65       119\n",
      "\n"
     ]
    }
   ],
   "source": [
    "print(classification_report(y_real,y_pred))\n",
    "# print(classification_report(dataY[-30:],y_pred))"
   ]
  },
  {
   "cell_type": "code",
   "execution_count": 32,
   "id": "2a782510",
   "metadata": {},
   "outputs": [],
   "source": [
    "# model.save('mlp11.h5')"
   ]
  },
  {
   "cell_type": "code",
   "execution_count": 33,
   "id": "8d4b857d",
   "metadata": {},
   "outputs": [
    {
     "data": {
      "text/plain": [
       "{'0': {'precision': 0.7083333333333334,\n",
       "  'recall': 0.7555555555555555,\n",
       "  'f1-score': 0.7311827956989247,\n",
       "  'support': 45},\n",
       " '1': {'precision': 0.6,\n",
       "  'recall': 0.5333333333333333,\n",
       "  'f1-score': 0.5647058823529412,\n",
       "  'support': 45},\n",
       " '2': {'precision': 0.6451612903225806,\n",
       "  'recall': 0.6896551724137931,\n",
       "  'f1-score': 0.6666666666666667,\n",
       "  'support': 29},\n",
       " 'accuracy': 0.6554621848739496,\n",
       " 'macro avg': {'precision': 0.6511648745519714,\n",
       "  'recall': 0.659514687100894,\n",
       "  'f1-score': 0.6541851149061776,\n",
       "  'support': 119},\n",
       " 'weighted avg': {'precision': 0.6519720791542424,\n",
       "  'recall': 0.6554621848739496,\n",
       "  'f1-score': 0.6525069230728345,\n",
       "  'support': 119}}"
      ]
     },
     "execution_count": 33,
     "metadata": {},
     "output_type": "execute_result"
    }
   ],
   "source": [
    "classification_report(y_real,y_pred,output_dict=True)"
   ]
  },
  {
   "cell_type": "code",
   "execution_count": 37,
   "id": "f7c16aab",
   "metadata": {},
   "outputs": [
    {
     "name": "stdout",
     "output_type": "stream",
     "text": [
      "{'precision': 0.6511648745519714, 'recall': 0.659514687100894, 'f1-score': 0.6541851149061776, 'support': 119}\n",
      "0.6511648745519714\n",
      "0.659514687100894\n",
      "0.6541851149061776\n"
     ]
    }
   ],
   "source": [
    "result = classification_report(y_real,y_pred,output_dict=True)\n",
    "print(result['macro avg'])\n",
    "print(result['macro avg']['precision'])\n",
    "print(result['macro avg']['recall'])\n",
    "print(result['macro avg']['f1-score'])"
   ]
  },
  {
   "cell_type": "code",
   "execution_count": null,
   "id": "be0c144a",
   "metadata": {},
   "outputs": [],
   "source": []
  }
 ],
 "metadata": {
  "kernelspec": {
   "display_name": "Python [conda env:root]",
   "language": "python",
   "name": "conda-root-py"
  },
  "language_info": {
   "codemirror_mode": {
    "name": "ipython",
    "version": 3
   },
   "file_extension": ".py",
   "mimetype": "text/x-python",
   "name": "python",
   "nbconvert_exporter": "python",
   "pygments_lexer": "ipython3",
   "version": "3.8.8"
  }
 },
 "nbformat": 4,
 "nbformat_minor": 5
}
